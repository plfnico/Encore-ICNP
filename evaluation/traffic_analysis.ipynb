{
 "cells": [
  {
   "cell_type": "code",
   "execution_count": 2,
   "metadata": {},
   "outputs": [],
   "source": [
    "import os\n",
    "import sys\n",
    "import re\n",
    "import time \n",
    "import datetime\n",
    "import numpy as np\n",
    "import pandas as pd\n",
    "from tqdm import tqdm\n",
    "import matplotlib.pyplot as plt\n",
    "from generation_utils import *\n",
    "import itertools\n",
    "from scipy.stats import spearmanr, wasserstein_distance\n",
    "if '..' not in sys.path: sys.path.insert(0, '..')\n",
    "# from encore.model import Decoder, Sequential\n",
    "from utils.initialization import *\n",
    "from utils.distribution_utils import *\n",
    "from utils.eval import *\n",
    "device = torch.device(\"cuda\" if torch.cuda.is_available() else \"cpu\")"
   ]
  },
  {
   "cell_type": "code",
   "execution_count": 3,
   "metadata": {},
   "outputs": [],
   "source": [
    "os.chdir(sys.path[0])\n",
    "size_dir = './data/size/'\n",
    "interval_dir = './data/interval/'\n",
    "metadata_dir = './data/metadata/'\n",
    "size_cdf = pd.read_csv('./data/cdf/size_cdf.csv')\n",
    "interval_cdf = pd.read_csv('./data/cdf/interval_cdf.csv')\n",
    "n_size = len(size_cdf) - 1\n",
    "n_interval = len(interval_cdf) - 1\n",
    "files = os.listdir(size_dir)\n",
    "block_size = 30\n",
    "\n",
    "file = 'app_182.txt'\n",
    "app = file.strip('.txt')\n",
    "data = get_data(size_dir, interval_dir, file, n_interval)"
   ]
  },
  {
   "cell_type": "code",
   "execution_count": 4,
   "metadata": {},
   "outputs": [],
   "source": [
    "def calculate_base_fct(flow_size, base_rtt=0.044, pkt_size=512, initial_cwnd=10, bw=200e6):\n",
    "    bdp = base_rtt * bw / 8\n",
    "    base_fct = (np.log2(np.minimum(flow_size, bdp) / (initial_cwnd * pkt_size) + 1) + ((flow_size - np.minimum(flow_size, bdp)) * 8) / bw + 1) * base_rtt\n",
    "    return base_fct"
   ]
  },
  {
   "cell_type": "code",
   "execution_count": 5,
   "metadata": {},
   "outputs": [
    {
     "name": "stdout",
     "output_type": "stream",
     "text": [
      "common_app_182_100_1000_0.1.csv 100_1000_0.1 0.0005657391027558676 0.0010946848585544997\n",
      "lomas_app_182_100_1000_0.1.csv 100_1000_0.1 0.0008326229960535899 0.0010346226725308784\n",
      "encore_app_182_100_1000_0.1.csv 100_1000_0.1 0.015665216133115938 0.008658809298693813\n",
      "real_app_182_100_1000_0.1.csv 100_1000_0.1 0.014450142008051078 0.007907311752887813\n"
     ]
    }
   ],
   "source": [
    "fct_dir = './simulation/data/result/fct'\n",
    "drop_dir = './simulation/data/result/drop'\n",
    "tp_dir = './simulation/data/result/tp'\n",
    "qlen_dir = './simulation/data/result/qlen'\n",
    "\n",
    "traces = ['common_app_182', 'lomas_app_182', 'encore_app_182', 'real_app_182']\n",
    "labels = ['Common Practice', 'Lomas', 'Encore', 'Ground Truth']\n",
    "colors = ['SlateGray', 'IndianRed', 'CornFlowerBlue', 'DarkGoldenRod', 'LimeGreen', 'LightSeaGreen', 'Purple']\n",
    "linestyles = ['-.', '--', '-.', '--', '-.']\n",
    "\n",
    "config = '100_1000_0.1'\n",
    "files = []\n",
    "for trace in traces:\n",
    "    files.append(f'{trace}_{config}.csv')\n",
    "\n",
    "fcts, drops, tps, qlens = {}, {}, {}, {}\n",
    "leafSlowdown = {}\n",
    "\n",
    "for file in files:\n",
    "    fcts[file] = pd.read_csv(os.path.join(fct_dir, file))\n",
    "    drops[file] = pd.read_csv(os.path.join(drop_dir, file))\n",
    "    tps[file] = pd.read_csv(os.path.join(tp_dir, file))\n",
    "    qlens[file] = pd.read_csv(os.path.join(qlen_dir, file))\n",
    "    fcts[file]['base_fct'] = fcts[file]['Size'].apply(calculate_base_fct)\n",
    "    fcts[file]['slowdown'] = (fcts[file]['CompletionTime'] / fcts[file]['base_fct']).clip(lower=1)\n",
    "    leafSlowdown[file] = fcts[file].groupby('Leaf')['slowdown'].mean()\n",
    "    drops[file]['DropRate'] = drops[file]['DropPacket'] / drops[file]['TotalPacket']\n",
    "    print(file, config, drops[file]['DropRate'].mean(), drops[file]['DropRate'].std())"
   ]
  },
  {
   "cell_type": "code",
   "execution_count": 6,
   "metadata": {},
   "outputs": [],
   "source": [
    "fig = plt.figure(figsize=(4, 3))\n",
    "plt.subplots_adjust(left=0.2, top=0.99, bottom=0.2, right=0.99)\n",
    "ax = plt.subplot(111)\n",
    "ax.spines['top'].set_visible(False)\n",
    "ax.spines['right'].set_visible(False)\n",
    "ax.set_ylabel('CDF', fontsize=16)\n",
    "ax.set_xlabel(f'FCT Slowdown (log10)', fontsize=16)\n",
    "plt.xticks(fontsize=16)\n",
    "plt.yticks(fontsize=16)\n",
    "plt.grid(linestyle='-.')\n",
    "for i, file in enumerate(files):\n",
    "    plot_cdf(np.log10(fcts[file]['slowdown'].values), label=labels[i], color=colors[i], linestyle=linestyles[i])\n",
    "plt.legend(fontsize=14, frameon=False, loc=(0.27, 0), labelspacing=0.25,handlelength=2.05, handletextpad=0.5)\n",
    "plt.savefig('./figures/evaluation/evaluation_all_fct.pdf', dpi=400)\n",
    "plt.close()"
   ]
  },
  {
   "cell_type": "code",
   "execution_count": 7,
   "metadata": {},
   "outputs": [],
   "source": [
    "fig = plt.figure(figsize=(4, 3))\n",
    "plt.subplots_adjust(left=0.2, top=0.99, bottom=0.2, right=0.99)\n",
    "ax = plt.subplot(111)\n",
    "ax.spines['top'].set_visible(False)\n",
    "ax.spines['right'].set_visible(False)\n",
    "ax.set_ylabel('CDF', fontsize=16)\n",
    "ax.set_xlabel('FCT Slowdown', fontsize=16)\n",
    "plt.xticks(fontsize=16)\n",
    "plt.yticks(fontsize=16)\n",
    "plt.grid(linestyle='-.')\n",
    "for i, file in enumerate(files):\n",
    "    plot_cdf(leafSlowdown[file].values, label=labels[i], color=colors[i], linestyle=linestyles[i])\n",
    "plt.legend(fontsize=14, frameon=False, loc=(0.27, 0), labelspacing=0.25,handlelength=2.05, handletextpad=0.5)\n",
    "plt.savefig('./figures/evaluation/evaluation_per_leaf_fct.pdf', dpi=400)\n",
    "plt.close()"
   ]
  },
  {
   "cell_type": "code",
   "execution_count": 8,
   "metadata": {},
   "outputs": [],
   "source": [
    "fig = plt.figure(figsize=(4, 3))\n",
    "plt.subplots_adjust(left=0.2, top=0.99, bottom=0.2, right=0.99)\n",
    "ax = plt.subplot(111)\n",
    "ax.spines['top'].set_visible(False)\n",
    "ax.spines['right'].set_visible(False)\n",
    "ax.set_ylabel('CDF', fontsize=16)\n",
    "ax.set_xlabel('Throughput', fontsize=16)\n",
    "plt.xticks(fontsize=16)\n",
    "plt.yticks(fontsize=16)\n",
    "plt.grid(linestyle='-.')\n",
    "for i, file in enumerate(files):\n",
    "    tp = tps[file]['Throughput'][0:120].values * 8 / 200e6\n",
    "    plot_cdf(tp, label=labels[i], color=colors[i], linestyle=linestyles[i])\n",
    "plt.legend(fontsize=14, frameon=False, loc=(0.27, 0), labelspacing=0.25,handlelength=2.05, handletextpad=0.5)\n",
    "plt.savefig('./figures/evaluation/evaluation_throughput.pdf', dpi=400)\n",
    "plt.close()"
   ]
  },
  {
   "cell_type": "code",
   "execution_count": 9,
   "metadata": {},
   "outputs": [],
   "source": [
    "fig = plt.figure(figsize=(4, 3))\n",
    "plt.subplots_adjust(left=0.2, top=0.99, bottom=0.2, right=0.99)\n",
    "ax = plt.subplot(111)\n",
    "ax.spines['top'].set_visible(False)\n",
    "ax.spines['right'].set_visible(False)\n",
    "ax.set_ylabel('CDF', fontsize=16)\n",
    "ax.set_xlabel('Queue Length (KB)', fontsize=16)\n",
    "plt.ylim(0.6, 1.05)\n",
    "plt.xticks(fontsize=16)\n",
    "plt.yticks(fontsize=16)\n",
    "plt.grid(linestyle='-.')\n",
    "for i, file in enumerate(files):\n",
    "    qlen = qlens[file]['QueueLength'][0:120].values / 1000\n",
    "    plot_cdf(qlen, label=labels[i], color=colors[i], linestyle=linestyles[i])\n",
    "plt.legend(fontsize=16, frameon=False, loc=(0.15, 0), labelspacing=0.25,handlelength=2.05, handletextpad=0.5)\n",
    "plt.savefig('./figures/evaluation/evaluation_queue_length.pdf', dpi=400)\n",
    "plt.close()"
   ]
  },
  {
   "cell_type": "code",
   "execution_count": 10,
   "metadata": {},
   "outputs": [
    {
     "name": "stdout",
     "output_type": "stream",
     "text": [
      "2.4693605213904832 2.430097765441239 0.1403087528716003\n",
      "2.454965908218725 2.4135409380689135 0.14944300287072912\n",
      "0.140685902 0.14255241 0.03346584066666666\n",
      "41.630556874666674 40.38713979175001 5.650780541499995\n",
      "17.59947594752161\n",
      "16.427439632903486\n",
      "4.203865768718874\n",
      "7.367222380859951\n"
     ]
    }
   ],
   "source": [
    "print(wasserstein_distance(fcts[files[0]]['slowdown'].values, fcts[files[3]]['slowdown'].values), wasserstein_distance(fcts[files[1]]['slowdown'].values, fcts[files[3]]['slowdown'].values), wasserstein_distance(fcts[files[2]]['slowdown'].values, fcts[files[3]]['slowdown'].values))\n",
    "print(wasserstein_distance(leafSlowdown[files[0]].values, leafSlowdown[files[3]].values), wasserstein_distance(leafSlowdown[files[1]].values, leafSlowdown[files[3]].values), wasserstein_distance(leafSlowdown[files[2]].values, leafSlowdown[files[3]].values))\n",
    "print(wasserstein_distance(tps[files[0]]['Throughput'][0:120].values * 8 / 200e6, tps[files[3]]['Throughput'][0:120].values * 8 / 200e6), wasserstein_distance(tps[files[1]]['Throughput'][0:120].values * 8 / 200e6, tps[files[3]]['Throughput'][0:120].values * 8 / 200e6), wasserstein_distance(tps[files[2]]['Throughput'][0:120].values * 8 / 200e6, tps[files[3]]['Throughput'][0:120].values * 8 / 200e6))\n",
    "print(wasserstein_distance(qlens[files[0]]['QueueLength'][0:120].values / 1000, qlens[files[3]]['QueueLength'][0:120].values / 1000), wasserstein_distance(qlens[files[1]]['QueueLength'][0:120].values / 1000, qlens[files[3]]['QueueLength'][0:120].values / 1000), wasserstein_distance(qlens[files[2]]['QueueLength'][0:120].values / 1000, qlens[files[3]]['QueueLength'][0:120].values / 1000))\n",
    "\n",
    "print(wasserstein_distance(fcts[files[0]]['slowdown'].values, fcts[files[3]]['slowdown'].values) / wasserstein_distance(fcts[files[2]]['slowdown'].values, fcts[files[3]]['slowdown'].values))\n",
    "print(wasserstein_distance(leafSlowdown[files[0]].values, leafSlowdown[files[3]].values) / wasserstein_distance(leafSlowdown[files[2]].values, leafSlowdown[files[3]].values))\n",
    "print(wasserstein_distance(tps[files[0]]['Throughput'][0:120].values * 8 / 200e6, tps[files[3]]['Throughput'][0:120].values * 8 / 200e6) / wasserstein_distance(tps[files[2]]['Throughput'][0:120].values * 8 / 200e6, tps[files[3]]['Throughput'][0:120].values * 8 / 200e6))\n",
    "print(wasserstein_distance(qlens[files[0]]['QueueLength'][0:120].values / 1000, qlens[files[3]]['QueueLength'][0:120].values / 1000) / wasserstein_distance(qlens[files[2]]['QueueLength'][0:120].values / 1000, qlens[files[3]]['QueueLength'][0:120].values / 1000))"
   ]
  },
  {
   "cell_type": "code",
   "execution_count": 11,
   "metadata": {},
   "outputs": [
    {
     "data": {
      "text/plain": [
       "(SignificanceResult(statistic=-0.010024783048713433, pvalue=0.8890923845476648),\n",
       " SignificanceResult(statistic=0.5433862729004136, pvalue=1.8859129955262435e-16),\n",
       " SignificanceResult(statistic=0.8778665859158972, pvalue=6.050893711410898e-64))"
      ]
     },
     "execution_count": 11,
     "metadata": {},
     "output_type": "execute_result"
    }
   ],
   "source": [
    "fct_dir = './simulation/data/result/fct'\n",
    "drop_dir = './simulation/data/result/drop'\n",
    "tp_dir = './simulation/data/result/tp'\n",
    "qlen_dir = './simulation/data/result/qlen'\n",
    "\n",
    "min_ths = [5, 10, 20, 50, 100, 200, 500, 1000]\n",
    "max_ths = [50, 100, 200, 500, 1000, 1500, 2000, 4000]\n",
    "p_maxs = [0.01, 0.05, 0.1, 0.2]\n",
    "traces = ['real_app_182', 'common_app_182', 'lomas_app_182', 'encore_app_182']\n",
    "\n",
    "configs = []\n",
    "slowdown = {trace:[] for trace in traces}\n",
    "for i, (min_th, max_th, p_max) in enumerate(itertools.product(min_ths, max_ths, p_maxs)):\n",
    "    if min_th >= max_th:\n",
    "        continue\n",
    "    config = f'{min_th}_{max_th}_{p_max}'\n",
    "    configs.append(config)\n",
    "    for trace in traces:\n",
    "        file = f'{trace}_{config}.csv'\n",
    "        fct = pd.read_csv(os.path.join(fct_dir, file))\n",
    "        fct['base_fct'] = fct['Size'].apply(calculate_base_fct)\n",
    "        fct['slowdown'] = (fct['CompletionTime'] / fct['base_fct']).clip(lower=1)\n",
    "        slowdown[trace].append(fct['slowdown'].mean())\n",
    "\n",
    "spearmanr(slowdown[traces[0]], slowdown[traces[1]]), spearmanr(slowdown[traces[0]], slowdown[traces[2]]), spearmanr(slowdown[traces[0]], slowdown[traces[3]])"
   ]
  },
  {
   "cell_type": "code",
   "execution_count": 12,
   "metadata": {},
   "outputs": [
    {
     "data": {
      "text/plain": [
       "([<matplotlib.axis.YTick at 0x7f04d44e9bd0>,\n",
       "  <matplotlib.axis.YTick at 0x7f04d44e9390>,\n",
       "  <matplotlib.axis.YTick at 0x7f04d44d8a60>,\n",
       "  <matplotlib.axis.YTick at 0x7f04d44d9750>,\n",
       "  <matplotlib.axis.YTick at 0x7f04d44da440>],\n",
       " [Text(0, 0, '0'),\n",
       "  Text(0, 1, '1'),\n",
       "  Text(0, 2, '2'),\n",
       "  Text(0, 3, '3'),\n",
       "  Text(0, 4, '4')])"
      ]
     },
     "execution_count": 12,
     "metadata": {},
     "output_type": "execute_result"
    },
    {
     "data": {
      "image/png": "[encoded data removed]",
      "text/plain": [
       "<Figure size 640x480 with 1 Axes>"
      ]
     },
     "metadata": {},
     "output_type": "display_data"
    }
   ],
   "source": [
    "# x = slowdown[traces[0]]\n",
    "# y = slowdown[traces[2]]\n",
    "# plt.scatter(x, y)\n",
    "x = slowdown[traces[0]]\n",
    "y = slowdown[traces[3]]\n",
    "plt.scatter(x, y)\n",
    "plt.xticks(np.arange(0, 5, 1))\n",
    "plt.yticks(np.arange(0, 5, 1))"
   ]
  },
  {
   "cell_type": "code",
   "execution_count": null,
   "metadata": {},
   "outputs": [],
   "source": []
  }
 ],
 "metadata": {
  "kernelspec": {
   "display_name": "encore",
   "language": "python",
   "name": "python3"
  },
  "language_info": {
   "codemirror_mode": {
    "name": "ipython",
    "version": 3
   },
   "file_extension": ".py",
   "mimetype": "text/x-python",
   "name": "python",
   "nbconvert_exporter": "python",
   "pygments_lexer": "ipython3",
   "version": "3.10.18"
  }
 },
 "nbformat": 4,
 "nbformat_minor": 2
}
