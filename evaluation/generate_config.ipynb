{
 "cells": [
  {
   "cell_type": "code",
   "execution_count": 1,
   "metadata": {},
   "outputs": [],
   "source": [
    "import os\n",
    "import sys\n",
    "import re\n",
    "import time \n",
    "import datetime\n",
    "import numpy as np\n",
    "import pandas as pd\n",
    "from tqdm import tqdm\n",
    "import matplotlib.pyplot as plt\n",
    "from pathlib import Path\n",
    "import itertools"
   ]
  },
  {
   "cell_type": "code",
   "execution_count": 2,
   "metadata": {},
   "outputs": [],
   "source": [
    "template = \"\"\"NUM_LEAF 115\n",
    "FLOW_FILE ./data/trace/{trace}_{app}.txt\n",
    "RED_MIN_TH {min_th}000\n",
    "RED_MAX_TH {max_th}000\n",
    "RED_PMAX {p_max}\n",
    "FCT_FILE ./data/result/fct/{trace}_{app}_{min_th}_{max_th}_{p_max}.csv\n",
    "DROP_FILE ./data/result/drop/{trace}_{app}_{min_th}_{max_th}_{p_max}.csv\n",
    "THROUGHPUT_FILE ./data/result/tp/{trace}_{app}_{min_th}_{max_th}_{p_max}.csv\n",
    "QLEN_FILE ./data/result/qlen/{trace}_{app}_{min_th}_{max_th}_{p_max}.csv\"\"\""
   ]
  },
  {
   "cell_type": "code",
   "execution_count": 3,
   "metadata": {},
   "outputs": [],
   "source": [
    "os.chdir('..')\n",
    "\n",
    "# min_ths = [5, 10, 100, 200, 500, 1000]\n",
    "# max_ths = [100, 200, 500, 1000, 200, 4000]\n",
    "# p_maxs = [0.01, 0.1, 0.2]\n",
    "\n",
    "min_ths = [5, 10, 20, 50, 100, 200, 500, 1000]\n",
    "max_ths = [50, 100, 200, 500, 1000, 1500, 2000, 4000]\n",
    "p_maxs = [0.01, 0.05, 0.1, 0.2]\n",
    "\n",
    "# work\n",
    "# min_ths = [100]\n",
    "# max_ths = [1000]\n",
    "# p_maxs = [0.1]\n",
    "\n",
    "traces = ['real', 'common', 'sample', 'gru', 'cvae', 'encore', 'size_sample', 'lomas']\n",
    "\n",
    "app = 'app_182'\n",
    "base_path = Path('./simulation/data')\n",
    "config_path = base_path / 'config'\n",
    "result_paths = ['drop', 'fct', 'tp', 'qlen']\n",
    "config_path.mkdir(parents=True, exist_ok=True)\n",
    "for result in result_paths:\n",
    "    (base_path / 'result' / result).mkdir(parents=True, exist_ok=True)\n",
    "\n",
    "for trace, min_th, max_th, p_max in itertools.product(traces, min_ths, max_ths, p_maxs):\n",
    "    if min_th >= max_th:\n",
    "        continue\n",
    "    config_file = f'./simulation/data/config/{trace}_{min_th}_{max_th}_{p_max}.txt'\n",
    "    with open(config_file, 'w') as f:\n",
    "        f.write(template.format(trace=trace, app=app, min_th=min_th, max_th=max_th, p_max=p_max))"
   ]
  },
  {
   "cell_type": "code",
   "execution_count": 4,
   "metadata": {},
   "outputs": [
    {
     "data": {
      "text/plain": [
       "1568"
      ]
     },
     "execution_count": 4,
     "metadata": {},
     "output_type": "execute_result"
    }
   ],
   "source": [
    "len(os.listdir(config_path))"
   ]
  },
  {
   "cell_type": "code",
   "execution_count": null,
   "metadata": {},
   "outputs": [],
   "source": []
  }
 ],
 "metadata": {
  "kernelspec": {
   "display_name": "encore",
   "language": "python",
   "name": "python3"
  },
  "language_info": {
   "codemirror_mode": {
    "name": "ipython",
    "version": 3
   },
   "file_extension": ".py",
   "mimetype": "text/x-python",
   "name": "python",
   "nbconvert_exporter": "python",
   "pygments_lexer": "ipython3",
   "version": "3.10.18"
  }
 },
 "nbformat": 4,
 "nbformat_minor": 2
}
